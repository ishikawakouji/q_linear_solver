{
  "nbformat": 4,
  "nbformat_minor": 0,
  "metadata": {
    "colab": {
      "provenance": [],
      "gpuType": "T4"
    },
    "kernelspec": {
      "name": "python3",
      "display_name": "Python 3"
    },
    "language_info": {
      "name": "python"
    },
    "accelerator": "GPU"
  },
  "cells": [
    {
      "cell_type": "code",
      "execution_count": null,
      "metadata": {
        "colab": {
          "base_uri": "https://localhost:8080/"
        },
        "id": "dS9QkXeb5JSu",
        "outputId": "c615a8bd-27aa-4519-a696-c6c6a6eaa23e"
      },
      "outputs": [
        {
          "output_type": "stream",
          "name": "stdout",
          "text": [
            "  Preparing metadata (setup.py) ... \u001b[?25l\u001b[?25hdone\n",
            "\u001b[2K   \u001b[90m━━━━━━━━━━━━━━━━━━━━━━━━━━━━━━━━━━━━━━━━\u001b[0m \u001b[32m50.3/50.3 MB\u001b[0m \u001b[31m11.3 MB/s\u001b[0m eta \u001b[36m0:00:00\u001b[0m\n",
            "\u001b[?25h  Building wheel for tytan (setup.py) ... \u001b[?25l\u001b[?25hdone\n"
          ]
        }
      ],
      "source": [
        "!pip -q install tytan"
      ]
    },
    {
      "cell_type": "code",
      "source": [
        "import numpy as np\n",
        "from tytan import *"
      ],
      "metadata": {
        "id": "M9y4vG2d5TLj"
      },
      "execution_count": null,
      "outputs": []
    },
    {
      "cell_type": "code",
      "source": [
        "# とりあえず、指数部なしでquboを作ってみる\n",
        "def create_float_qubo(dim: int, upper: float, lower: float, num_bit: int):\n",
        "    qbits = symbols_list([dim, num_bit], 'q{}_{}')\n",
        "    qfloat = []\n",
        "\n",
        "    norm = 1.0/(2**num_bit)\n",
        "\n",
        "    for row in range(dim):\n",
        "      qf = 0\n",
        "      for col in range(num_bit):\n",
        "        qf += qbits[row][col] * (2**col)\n",
        "      qfloat.append(lower + (upper-lower)*qf*norm)\n",
        "\n",
        "    return qfloat"
      ],
      "metadata": {
        "id": "c_m6bw0lNhu0"
      },
      "execution_count": null,
      "outputs": []
    },
    {
      "cell_type": "code",
      "source": [
        "# 指数部も作る\n",
        "# m_upper, m_lower は仮数部だけの最大、最小\n",
        "# 10^digits_upper から 10^digits_lower の範囲の指数部\n",
        "# 次元が多くなるので、Hoboで計算すること\n",
        "def create_double_qubo(dim: int, m_upper: float, m_lower: float, num_m_bit: int, digits_upper: int, digits_lower: int):\n",
        "  m_bits = symbols_list([dim, num_m_bit], 'm{}_{}')\n",
        "  e_bits = symbols_list([dim, digits_upper-digits_lower+1], 'e{}_{}')\n",
        "\n",
        "  qdouble = []\n",
        "\n",
        "  Honehot = 0\n",
        "\n",
        "  # 仮数部を1.0に\n",
        "  norm = 1.0/(2**num_m_bit)\n",
        "\n",
        "  for row in range(dim):\n",
        "    # 仮数部\n",
        "    qm = 0\n",
        "    for col in range(num_m_bit):\n",
        "      qm += m_bits[row][col] * (2**col)\n",
        "    qmantissa = lower + (upper-lower)*qm*norm\n",
        "\n",
        "    # 指数部\n",
        "    qe = 0\n",
        "    ho = 0\n",
        "    for col, ex in enumerate(range(digits_lower, digits_upper+1)):\n",
        "      qe += e_bits[row][col] * (10**ex)\n",
        "      ho += e_bits[row][col] # ワンホット\n",
        "\n",
        "    #print('指数 H',qe)\n",
        "\n",
        "    qdouble.append(qmantissa*qe)\n",
        "    Honehot += (ho -1)**2\n",
        "\n",
        "  return qdouble, Honehot"
      ],
      "metadata": {
        "id": "-f4qz7PVVxIa"
      },
      "execution_count": null,
      "outputs": []
    },
    {
      "cell_type": "code",
      "source": [
        "# 方程式を組んで、そのハミルトニアンを返す\n",
        "def create_equation_hamiltonian(A, b, qfloat):\n",
        "  dim = len(b)\n",
        "\n",
        "  H = 0\n",
        "\n",
        "  for row in range(dim):\n",
        "    H_i = 0\n",
        "    for col in range(dim):\n",
        "      H_i += A[row][col] * qfloat[col]\n",
        "    H_i -= b[row]\n",
        "    H += H_i**2\n",
        "\n",
        "  return H"
      ],
      "metadata": {
        "id": "DIeHGxgbQwEi"
      },
      "execution_count": null,
      "outputs": []
    },
    {
      "cell_type": "code",
      "source": [
        "dim = 3\n",
        "bitnum = 4\n",
        "upper = 2.0\n",
        "lower = -2.0\n",
        "d_upper = 1\n",
        "d_lower = -1\n",
        "\n",
        "#qfloat = create_float_qubo(dim, upper, lower, bitnum)\n",
        "qfloat, Honehot = create_double_qubo(dim, upper, lower, bitnum, d_upper, d_lower)\n",
        "\n",
        "#print(qfloat)\n",
        "\n",
        "# 連立方程式\n",
        "A = np.array([[2, 1, 1],\n",
        "              [2, 3, 1],\n",
        "              [1, 1, 3]])\n",
        "#b = np.array([2, 4, -1])\n",
        "#b = np.array([2.2, 4.2, -0.4]) # 4bit 1..-1 最終解  [ 1.    1.   -0.75]\n",
        "b = np.array([23.09, 25.29, 12.07]) # 11, 1.1, -0.01\n",
        "\n",
        "H = create_equation_hamiltonian(A, b, qfloat)\n",
        "H += Honehot\n",
        "#print('全体H ',H)\n",
        "\n",
        "# solve\n",
        "qubo, offset = Compile(H).get_hobo()\n",
        "solver = sampler.ArminSampler(seed=1)\n",
        "result = solver.run(qubo, shots=100)\n",
        "\n",
        "# result\n",
        "norm = 1.0 / (2**bitnum)\n",
        "print('offset ', offset)\n",
        "qbest = np.array([0.,0.,0.])\n",
        "count = 0\n",
        "for r in result:\n",
        "  print(r)\n",
        "\n",
        "  elist = list(r[0].values())[:dim*(d_upper - d_lower +1)]\n",
        "  mlist = list(r[0].values())[dim*(d_upper - d_lower +1):]\n",
        "\n",
        "  earray = np.array(elist).reshape([dim,-1])\n",
        "  marray = np.array(mlist).reshape([dim,-1])\n",
        "\n",
        "  edigits = np.array([10**i for i in range(d_lower, d_upper+1)])\n",
        "  mbinary = np.array([2**i for i in range(bitnum)])\n",
        "\n",
        "  epart = earray @ edigits\n",
        "  mpart = lower + (upper - lower) * norm *( marray @ mbinary )\n",
        "\n",
        "  #print('指数部数値 ', epart)\n",
        "  #print('仮数部数値', mpart)\n",
        "\n",
        "  xq = mpart * epart\n",
        "\n",
        "  print('qubo/hoboの解 ', np.array2string(xq, separator=','))\n",
        "  if count == 0:\n",
        "    qbest = xq\n",
        "  count += 1"
      ],
      "metadata": {
        "colab": {
          "base_uri": "https://localhost:8080/"
        },
        "id": "P9ETdJs1QnoD",
        "outputId": "6966ee64-7fd6-40ee-d74a-2687705dad6c"
      },
      "execution_count": null,
      "outputs": [
        {
          "output_type": "stream",
          "name": "stdout",
          "text": [
            "MODE: GPU\n",
            "DEVICE: cuda:0\n",
            "offset  1321.4171\n",
            "[{'e0_0': 0, 'e0_1': 1, 'e0_2': 1, 'e1_0': 0, 'e1_1': 1, 'e1_2': 0, 'e2_0': 1, 'e2_1': 0, 'e2_2': 0, 'm0_0': 0, 'm0_1': 0, 'm0_2': 1, 'm0_3': 1, 'm1_0': 0, 'm1_1': 0, 'm1_2': 1, 'm1_3': 1, 'm2_0': 0, 'm2_1': 1, 'm2_2': 0, 'm2_3': 1}, -1320.3511, 29]\n",
            "qubo/hoboの解  [11.  , 1.  , 0.05]\n",
            "[{'e0_0': 0, 'e0_1': 1, 'e0_2': 1, 'e1_0': 0, 'e1_1': 1, 'e1_2': 0, 'e2_0': 1, 'e2_1': 0, 'e2_2': 0, 'm0_0': 0, 'm0_1': 0, 'm0_2': 1, 'm0_3': 1, 'm1_0': 0, 'm1_1': 0, 'm1_2': 1, 'm1_3': 1, 'm2_0': 0, 'm2_1': 0, 'm2_2': 1, 'm2_3': 1}, -1320.3276, 12]\n",
            "qubo/hoboの解  [11. , 1. , 0.1]\n",
            "[{'e0_0': 0, 'e0_1': 1, 'e0_2': 1, 'e1_0': 0, 'e1_1': 1, 'e1_2': 0, 'e2_0': 0, 'e2_1': 1, 'e2_2': 0, 'm0_0': 0, 'm0_1': 0, 'm0_2': 1, 'm0_3': 1, 'm1_0': 0, 'm1_1': 0, 'm1_2': 1, 'm1_3': 1, 'm2_0': 0, 'm2_1': 0, 'm2_2': 0, 'm2_3': 1}, -1320.3203, 11]\n",
            "qubo/hoboの解  [11., 1., 0.]\n",
            "[{'e0_0': 0, 'e0_1': 0, 'e0_2': 1, 'e1_0': 0, 'e1_1': 1, 'e1_2': 0, 'e2_0': 1, 'e2_1': 0, 'e2_2': 0, 'm0_0': 0, 'm0_1': 0, 'm0_2': 1, 'm0_3': 1, 'm1_0': 1, 'm1_1': 1, 'm1_2': 1, 'm1_3': 1, 'm2_0': 1, 'm2_1': 1, 'm2_2': 1, 'm2_3': 1}, -1319.9995, 2]\n",
            "qubo/hoboの解  [10.   , 1.75 , 0.175]\n",
            "[{'e0_0': 0, 'e0_1': 0, 'e0_2': 1, 'e1_0': 1, 'e1_1': 0, 'e1_2': 0, 'e2_0': 0, 'e2_1': 1, 'e2_2': 0, 'm0_0': 1, 'm0_1': 0, 'm0_2': 1, 'm0_3': 1, 'm1_0': 1, 'm1_1': 0, 'm1_2': 0, 'm1_3': 1, 'm2_0': 1, 'm2_1': 1, 'm2_2': 1, 'm2_3': 0}, -1318.2749, 2]\n",
            "qubo/hoboの解  [12.5  , 0.025,-0.25 ]\n",
            "[{'e0_0': 0, 'e0_1': 0, 'e0_2': 1, 'e1_0': 0, 'e1_1': 1, 'e1_2': 0, 'e2_0': 0, 'e2_1': 1, 'e2_2': 0, 'm0_0': 1, 'm0_1': 0, 'm0_2': 1, 'm0_3': 1, 'm1_0': 0, 'm1_1': 0, 'm1_2': 0, 'm1_3': 1, 'm2_0': 1, 'm2_1': 1, 'm2_2': 1, 'm2_3': 0}, -1318.2676, 1]\n",
            "qubo/hoboの解  [12.5 , 0.  ,-0.25]\n",
            "[{'e0_0': 0, 'e0_1': 0, 'e0_2': 1, 'e1_0': 0, 'e1_1': 0, 'e1_2': 1, 'e2_0': 1, 'e2_1': 0, 'e2_2': 0, 'm0_0': 1, 'm0_1': 0, 'm0_2': 1, 'm0_3': 1, 'm1_0': 0, 'm1_1': 0, 'm1_2': 0, 'm1_3': 1, 'm2_0': 0, 'm2_1': 0, 'm2_2': 0, 'm2_3': 0}, -1318.2246, 21]\n",
            "qubo/hoboの解  [12.5, 0. ,-0.2]\n",
            "[{'e0_0': 0, 'e0_1': 0, 'e0_2': 1, 'e1_0': 1, 'e1_1': 0, 'e1_2': 0, 'e2_0': 1, 'e2_1': 0, 'e2_2': 0, 'm0_0': 1, 'm0_1': 0, 'm0_2': 1, 'm0_3': 1, 'm1_0': 0, 'm1_1': 0, 'm1_2': 0, 'm1_3': 1, 'm2_0': 0, 'm2_1': 0, 'm2_2': 0, 'm2_3': 0}, -1318.2241, 6]\n",
            "qubo/hoboの解  [12.5, 0. ,-0.2]\n",
            "[{'e0_0': 0, 'e0_1': 0, 'e0_2': 1, 'e1_0': 1, 'e1_1': 0, 'e1_2': 0, 'e2_0': 1, 'e2_1': 0, 'e2_2': 0, 'm0_0': 1, 'm0_1': 0, 'm0_2': 1, 'm0_3': 1, 'm1_0': 1, 'm1_1': 1, 'm1_2': 1, 'm1_3': 0, 'm2_0': 0, 'm2_1': 0, 'm2_2': 0, 'm2_3': 0}, -1318.2207, 16]\n",
            "qubo/hoboの解  [12.5  ,-0.025,-0.2  ]\n"
          ]
        }
      ]
    },
    {
      "cell_type": "code",
      "source": [
        "# 参照\n",
        "# https://watlab-blog.com/2022/09/06/jacobi-method/\n",
        "def jacobi(A, b, x0, tolerance):\n",
        "    ''' 連立方程式をヤコビ法（反復法）で解く '''\n",
        "\n",
        "    # 初期化（適当な解と残差）\n",
        "    x_1 = x0\n",
        "    residual = 1e20\n",
        "\n",
        "    # A = D + R\n",
        "    D = np.diag(A)\n",
        "    R = A - np.diag(D)\n",
        "\n",
        "    # 反復計算=>残差がトレランスより小さくなったら終了\n",
        "    i = 0\n",
        "    print('----------Start iteration----------')\n",
        "    while residual > tolerance:\n",
        "        # 解と残差を計算\n",
        "        x = (b - (R @ x_1)) / D\n",
        "        residual = np.sum(np.sqrt((x - x_1) ** 2)) / np.sum(np.sqrt(x ** 2))\n",
        "\n",
        "        if i % 100 == 0:\n",
        "            print('Iteration=', i)\n",
        "            print('Residual=', residual)\n",
        "            print('x=', x)\n",
        "        i += 1\n",
        "        x_1 = x\n",
        "\n",
        "    print('----------End iteration----------')\n",
        "    print('Iteration=', i)\n",
        "    print('Residual=', residual)\n",
        "    print('x=', x, '\\n')\n",
        "\n",
        "    return x"
      ],
      "metadata": {
        "id": "0Vv41pSSL80j"
      },
      "execution_count": null,
      "outputs": []
    },
    {
      "cell_type": "code",
      "source": [
        "# 係数行列と定数ベクトル\n",
        "\n",
        "x0 = np.array([0]*len(b))\n",
        "\n",
        "# ヤコビ法で解を反復計算\n",
        "x_jacobi = jacobi(A, b, x0, 1e-6)\n",
        "print('Jacobi method x=', x_jacobi, 'Validated b=', A @ x_jacobi)\n",
        "print('\\n')\n",
        "\n",
        "# qubo初期値付き\n",
        "print('qubo/hobo初期値 ', np.array2string(qbest, separator=','))\n",
        "x_qubo = jacobi(A, b, qbest, 1e-6)\n",
        "print('QUBO + Jacobi method x=', x_qubo, 'Validated b=', A @ x_jacobi)\n",
        "print('\\n')\n",
        "\n",
        "# numpyの線形代数ライブラリで検証\n",
        "x_linalg = np.linalg.solve(A, b)\n",
        "print('np.linalg.solve x=', x_linalg, 'Validated b=', A @ x_linalg)"
      ],
      "metadata": {
        "colab": {
          "base_uri": "https://localhost:8080/"
        },
        "id": "Atl4P2P3MHE_",
        "outputId": "c6a8fb8b-17c2-49f5-e3a2-d2401c75e27c"
      },
      "execution_count": null,
      "outputs": [
        {
          "output_type": "stream",
          "name": "stdout",
          "text": [
            "----------Start iteration----------\n",
            "Iteration= 0\n",
            "Residual= 1.0\n",
            "x= [11.545       8.43        4.02333333]\n",
            "Iteration= 100\n",
            "Residual= 2.4860536705960127e-05\n",
            "x= [ 1.10000510e+01  1.10005246e+00 -9.96139768e-03]\n",
            "----------End iteration----------\n",
            "Iteration= 130\n",
            "Residual= 9.382489875524209e-07\n",
            "x= [ 1.09999981e+01  1.09999802e+00 -1.00014569e-02] \n",
            "\n",
            "Jacobi method x= [ 1.09999981e+01  1.09999802e+00 -1.00014569e-02] Validated b= [23.08999272 25.28998876 12.06999173]\n",
            "\n",
            "\n",
            "qubo/hobo初期値  [11.  , 1.  , 0.05]\n",
            "----------Start iteration----------\n",
            "Iteration= 0\n",
            "Residual= 0.010448171569975162\n",
            "x= [11.02        1.08        0.02333333]\n",
            "----------End iteration----------\n",
            "Iteration= 78\n",
            "Residual= 9.97735925994685e-07\n",
            "x= [ 1.09999980e+01  1.09999789e+00 -1.00015492e-02] \n",
            "\n",
            "QUBO + Jacobi method x= [ 1.09999980e+01  1.09999789e+00 -1.00015492e-02] Validated b= [23.08999272 25.28998876 12.06999173]\n",
            "\n",
            "\n",
            "np.linalg.solve x= [ 1.1e+01  1.1e+00 -1.0e-02] Validated b= [23.09 25.29 12.07]\n"
          ]
        }
      ]
    }
  ]
}